{
 "cells": [
  {
   "cell_type": "code",
   "execution_count": 10,
   "metadata": {},
   "outputs": [
    {
     "name": "stdout",
     "output_type": "stream",
     "text": [
      "Players can enter 1, 2 or 3 as Input. You win the Game by reaching 21 faster than the other Player.\n",
      "Player 1:  1\n",
      "Total = 1\n",
      "Player 2:  2\n",
      "Total = 3\n",
      "Player 1:  3\n",
      "Total = 6\n",
      "Player 2:  2\n",
      "Total = 8\n",
      "Player 1:  3\n",
      "Total = 11\n",
      "Player 2:  2\n",
      "Total = 13\n",
      "Player 1:  3\n",
      "Total = 16\n",
      "Player 2:  1\n",
      "Total = 17\n",
      "Player 1:  3\n",
      "Total = 20\n",
      "Player 2:  2\n",
      "You Win!!\n"
     ]
    }
   ],
   "source": [
    "n=0\n",
    "print(\"Players can enter 1, 2 or 3 as Input. You win the Game by reaching 21 faster than the other Player.\")\n",
    "Player1=0\n",
    "while(n<=21):\n",
    "    if(Player1%2==0):\n",
    "        msg=\"Player 1:  \"\n",
    "    else:\n",
    "        msg=\"Player 2:  \"\n",
    "    x=int(input(msg))\n",
    "    n+=x\n",
    "    if(n>=21):\n",
    "        print(\"You Win!!\")\n",
    "        break\n",
    "    else:\n",
    "        print(\"Total =\",n)\n",
    "    \n",
    "    Player1+=1\n",
    "\n",
    "    "
   ]
  },
  {
   "cell_type": "code",
   "execution_count": null,
   "metadata": {},
   "outputs": [],
   "source": []
  }
 ],
 "metadata": {
  "kernelspec": {
   "display_name": "Python 3",
   "language": "python",
   "name": "python3"
  },
  "language_info": {
   "codemirror_mode": {
    "name": "ipython",
    "version": 3
   },
   "file_extension": ".py",
   "mimetype": "text/x-python",
   "name": "python",
   "nbconvert_exporter": "python",
   "pygments_lexer": "ipython3",
   "version": "3.7.0"
  }
 },
 "nbformat": 4,
 "nbformat_minor": 2
}
